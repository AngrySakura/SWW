{
 "cells": [
  {
   "cell_type": "code",
   "execution_count": 2,
   "metadata": {},
   "outputs": [],
   "source": [
    "# General Libraries\n",
    "import pandas as pd\n",
    "import numpy as np\n",
    "import matplotlib as plt\n",
    "import seaborn as sns\n",
    "import pampro \n",
    "from datetime import datetime, date, time, timedelta\n",
    "from pampro import data_loading, Time_Series, Channel, channel_inference, Bout , triaxial_calibration\n",
    "from io import StringIO # required by pd.read_csv. It expects an object with a .read() method.\n",
    "from glob import glob\n",
    "import re \n",
    "\n",
    "# Machine Learning Libraries\n",
    "from sklearn import metrics\n",
    "from sklearn.ensemble import ExtraTreesClassifier, RandomForestClassifier\n",
    "from sklearn.linear_model import LinearRegression, LogisticRegression, SGDClassifier\n",
    "from sklearn.neural_network import MLPClassifier\n",
    "from sklearn.model_selection import ShuffleSplit, train_test_split, cross_val_predict, KFold, LeaveOneOut\n",
    "from sklearn.preprocessing import StandardScaler\n",
    "from sklearn.model_selection import GridSearchCV\n",
    "from sklearn.pipeline import Pipeline\n",
    "\n",
    "%matplotlib inline"
   ]
  },
  {
   "cell_type": "code",
   "execution_count": 3,
   "metadata": {},
   "outputs": [
    {
     "ename": "IndentationError",
     "evalue": "unexpected indent (<ipython-input-3-97c3c354decf>, line 6)",
     "output_type": "error",
     "traceback": [
      "\u001b[0;36m  File \u001b[0;32m\"<ipython-input-3-97c3c354decf>\"\u001b[0;36m, line \u001b[0;32m6\u001b[0m\n\u001b[0;31m    x, y, z = Channel.load_channels(\"/datasource/714952C-AP1335893 18Nov13 10-00am for 7d 23h 14m.datx\", \"activPAL\") # change this accordingly\u001b[0m\n\u001b[0m    ^\u001b[0m\n\u001b[0;31mIndentationError\u001b[0m\u001b[0;31m:\u001b[0m unexpected indent\n"
     ]
    }
   ],
   "source": [
    "\n",
    "    # if statement to check data source == ActivPAL:\n",
    "    \n",
    "    # ActivPAL pre-processing \n",
    "    # Load sample activPAL data\n",
    "    x, y, z = Channel.load_channels(\"/datasource/714952C-AP1335893 18Nov13 10-00am for 7d 23h 14m.datx\", \"activPAL\") # change this accordingly\n",
    "    # Autocalibrate the raw acceleration data\n",
    "    x, y, z, (cal_params), (results), (misc) = triaxial_calibration.calibrate(x, y, z)\n",
    "    # Infer some sample level info from the three channels - VM, ENMO, Pitch & Roll\n",
    "    vm = channel_inference.infer_vector_magnitude(x, y, z)\n",
    "    enmo = channel_inference.infer_enmo(vm)\n",
    "    pitch, roll = channel_inference.infer_pitch_roll(x, y, z)\n",
    "\n",
    "    # Create a time series object and add all signals to it\n",
    "    ts = Time_Series.Time_Series(\"activPAL\")\n",
    "    ts.add_channels([x,y,z,vm,enmo,pitch,roll])\n",
    "    # Request some stats about the time series\n",
    "    # In this case: mean ENMO, pitch and roll, and 10 degree cutpoints of pitch and roll\n",
    "    angle_levels = [[-90,-80],[-80,-70],[-70,-60],[-60,-50],[-50,-40],[-40,-30],[-30,-20],[-20,-10],[-10,0],[0,10],[10,20],[20,30],[30,40],[40,50],[50,60],[60,70],[70,80],[80,90]]\n",
    "    stat_dict = {\"Pitch\":angle_levels+[\"mean\"], \"Roll\":angle_levels+[\"mean\"], \"ENMO\":[\"mean\"]}\n",
    "    # Get the output at 1 minute level\n",
    "    quarter_hourly_results = ts.piecewise_statistics(timedelta(minutes=1), stat_dict)\n",
    "    # Create a time series object to put the results in\n",
    "    ts_output = Time_Series.Time_Series(\"activPAL output\")\n",
    "    ts_output.add_channels(quarter_hourly_results)\n",
    "    # Write the 1m results to a file\n",
    "    ts_output.write_channels_to_file(\"/datasource/_results/example_output.csv\")\n",
    "    \n",
    "    # if statement to check data source == Axivity:\n",
    "    \n",
    "    \n",
    "    # if statement to check data source == Actigraph:\n",
    "    \n",
    "    \n",
    "    \n",
    "    # if statement to check data source == GeneActiv\n",
    "    "
   ]
  },
  {
   "cell_type": "code",
   "execution_count": null,
   "metadata": {},
   "outputs": [],
   "source": []
  }
 ],
 "metadata": {
  "kernelspec": {
   "display_name": "Python 3",
   "language": "python",
   "name": "python3"
  },
  "language_info": {
   "codemirror_mode": {
    "name": "ipython",
    "version": 3
   },
   "file_extension": ".py",
   "mimetype": "text/x-python",
   "name": "python",
   "nbconvert_exporter": "python",
   "pygments_lexer": "ipython3",
   "version": "3.6.4"
  }
 },
 "nbformat": 4,
 "nbformat_minor": 2
}
